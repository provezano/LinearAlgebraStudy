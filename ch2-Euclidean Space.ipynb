{
 "cells": [
  {
   "cell_type": "markdown",
   "id": "938ccaa9-63af-47b8-8fb6-5ca91d384043",
   "metadata": {},
   "source": [
    "# Euclidean Space"
   ]
  },
  {
   "cell_type": "markdown",
   "id": "5b11ee20-6391-47b4-bb3a-022039638da2",
   "metadata": {},
   "source": [
    "## Section 2.1 Properties of Vectors"
   ]
  },
  {
   "cell_type": "markdown",
   "id": "8dfbdb64-32a5-4875-8479-0e98b9808982",
   "metadata": {},
   "source": [
    "A vector has two attributes: (1) lenght and (2) direction and can be of N dimensions."
   ]
  },
  {
   "cell_type": "markdown",
   "id": "c57fae6c-e765-4ee3-a7b1-d0a0172f6347",
   "metadata": {},
   "source": [
    "### 2.1.1 Vector addition and scalar multiplication properties"
   ]
  },
  {
   "cell_type": "markdown",
   "id": "7a4dafb9-4266-4d1e-90ab-3354977fa370",
   "metadata": {},
   "source": [
    "##### Proposition (2.1) - Let $\\bf{u}$, $\\bf{v}$ and $\\bf{w}$ be vectors in $\\mathbb{R}^{n}$ and $k$, $c$ be real numbers. Therefore:"
   ]
  },
  {
   "cell_type": "markdown",
   "id": "e3f35152-2cfa-4eb4-ae2b-c19302522785",
   "metadata": {},
   "source": [
    "(i) $\\bf{u} + \\bf{v} = \\bf{v} + \\bf{u}$"
   ]
  },
  {
   "cell_type": "markdown",
   "id": "df7a1f81-0ff5-40f6-a80d-b4e77e2c565d",
   "metadata": {},
   "source": [
    "(ii) ($\\bf{u} + \\bf{v}) + \\bf{w} = \\bf{v} + (\\bf{u}$ + \\bf{w})"
   ]
  },
  {
   "cell_type": "markdown",
   "id": "41bdc29c-1083-4acf-94ce-65093639125d",
   "metadata": {},
   "source": [
    "(iii) There exists a zero vector $\\bf{O}$ such that $\\bf{u} + \\bf{O}$ = $\\bf{u}$"
   ]
  },
  {
   "cell_type": "markdown",
   "id": "bd62832e-6f5e-4c97-8539-baac7b155faa",
   "metadata": {},
   "source": [
    "(iv) For every vector $\\bf{u}$ there is a vector $-\\bf{u}$ such that $\\bf{u} + (-\\bf{u}) = \\bf{O}$"
   ]
  },
  {
   "cell_type": "markdown",
   "id": "13cfca68-27df-480a-bdb4-514ddbc54236",
   "metadata": {},
   "source": [
    "(v) $k(\\bf{u}+\\bf{v}) = k\\bf{u}+k\\bf{v}$"
   ]
  },
  {
   "cell_type": "markdown",
   "id": "e36e7f79-8ac6-4624-88c8-2e032f0396f2",
   "metadata": {},
   "source": [
    "(vi) $(k + c)\\bf{u} = k\\bf{u} + c\\bf{u}$"
   ]
  },
  {
   "cell_type": "markdown",
   "id": "2460f21c-09de-4953-8a06-ce36ac365f17",
   "metadata": {},
   "source": [
    "(vii) $(kc)\\bf{u} = k(c\\bf{u})$"
   ]
  },
  {
   "cell_type": "markdown",
   "id": "843c43ea-03e3-41f2-afc9-e69c7b15cc5c",
   "metadata": {},
   "source": [
    "(viii) For every vector $\\bf{u}$ we have $1\\bf{u} = \\bf{u}$"
   ]
  },
  {
   "cell_type": "markdown",
   "id": "49f11263-7d56-4c91-9573-1b8bc0c7ca55",
   "metadata": {},
   "source": [
    "### 2.1.2 Dot(inner) product revisited"
   ]
  },
  {
   "cell_type": "markdown",
   "id": "1b9748bb-9b26-4783-82df-26037c3d9487",
   "metadata": {},
   "source": [
    "Let $\\bf{u}$ = $\n",
    "\\begin{pmatrix}\n",
    "  u_{1} \\\\\n",
    "  u_{2} \\\\\n",
    "  \\vdots \\\\\n",
    "  u_{n}\n",
    "\\end{pmatrix}\n",
    "$ and \n",
    "$\\bf{v}$ = $\n",
    "\\begin{pmatrix}\n",
    "  v_{1} \\\\\n",
    "  v_{2} \\\\\n",
    "  \\vdots \\\\\n",
    "  v_{n}\n",
    "\\end{pmatrix}\n",
    "$\n",
    "be vectors in $\\mathbb{R}^{n}$, then the dot product of $\\bf u$ and $\\bf v$ which is denoted by $\\textbf{u.v}$ is given by\n",
    "$\\textbf{u.v} = u_{1}.v_{1}+u_{2}.v_{2}+ ... + u_{n}.v_{n}$"
   ]
  },
  {
   "cell_type": "markdown",
   "id": "92282432-0fd8-4e1e-a0dc-a484124ae140",
   "metadata": {},
   "source": [
    "This is the same as the matrix multiplication of the transpose of $\\bf{u}$ by the column vector $\\bf{v}$."
   ]
  },
  {
   "cell_type": "markdown",
   "id": "246f9448-ac6f-4844-ac75-4c2dbfca6c1b",
   "metadata": {},
   "source": [
    "$\\bf{u.v}$ = $\\bf{u^{T}.v}$ = $\\begin{pmatrix}\n",
    "  u_{1} \\\\\n",
    "  u_{2} \\\\\n",
    "  \\vdots \\\\\n",
    "  u_{n}\n",
    "\\end{pmatrix}^{T}\n",
    "\\begin{pmatrix}\n",
    "  v_{1} \\\\\n",
    "  v_{2} \\\\\n",
    "  \\vdots \\\\\n",
    "  v_{n}\n",
    "\\end{pmatrix}$ = $ \n",
    "\\begin{pmatrix}\n",
    "u_{1} & u_{2} & ... & u_{n}\n",
    "\\end{pmatrix}\n",
    "\\begin{pmatrix}\n",
    "  v_{1} \\\\\n",
    "  v_{2} \\\\\n",
    "  \\vdots \\\\\n",
    "  v_{n}\n",
    "\\end{pmatrix}\n",
    "$ = $u_{1}v_{1} + u_{2}v_{2} + u_{3}v_{3} + ... u_{n}v_{n}$"
   ]
  },
  {
   "cell_type": "markdown",
   "id": "d89f2446-edde-44ff-a0ef-c78da287d05d",
   "metadata": {},
   "source": [
    "#### Example 2.1 Let $\\bf{u}$ = $\\begin{pmatrix}\n",
    "-3 & 1 & 7 & -5\n",
    "\\end{pmatrix}^{T}$ and $\\bf{v}$ = $\\begin{pmatrix}\n",
    "9 & 2 & -4 & 1\n",
    "\\end{pmatrix}^{T}$. Find u.v."
   ]
  },
  {
   "cell_type": "code",
   "execution_count": 26,
   "id": "97897935-3690-46b1-a66d-77c9824c26d8",
   "metadata": {},
   "outputs": [],
   "source": [
    "from sympy import Matrix\n",
    "\n",
    "u = Matrix([[-3, 1, 7, -5]]).T\n",
    "v = Matrix([[9, 2, -4, 1]]).T"
   ]
  },
  {
   "cell_type": "code",
   "execution_count": 27,
   "id": "96a41a8e-fa83-4766-9c8a-181b337b4845",
   "metadata": {},
   "outputs": [
    {
     "data": {
      "text/latex": [
       "$\\displaystyle \\left[\\begin{matrix}-3\\\\1\\\\7\\\\-5\\end{matrix}\\right]$"
      ],
      "text/plain": [
       "Matrix([\n",
       "[-3],\n",
       "[ 1],\n",
       "[ 7],\n",
       "[-5]])"
      ]
     },
     "execution_count": 27,
     "metadata": {},
     "output_type": "execute_result"
    }
   ],
   "source": [
    "u"
   ]
  },
  {
   "cell_type": "code",
   "execution_count": 28,
   "id": "3fb4ce2e-124e-4166-8663-d82bd13c1258",
   "metadata": {},
   "outputs": [
    {
     "data": {
      "text/latex": [
       "$\\displaystyle \\left[\\begin{matrix}9\\\\2\\\\-4\\\\1\\end{matrix}\\right]$"
      ],
      "text/plain": [
       "Matrix([\n",
       "[ 9],\n",
       "[ 2],\n",
       "[-4],\n",
       "[ 1]])"
      ]
     },
     "execution_count": 28,
     "metadata": {},
     "output_type": "execute_result"
    }
   ],
   "source": [
    "v"
   ]
  },
  {
   "cell_type": "code",
   "execution_count": 31,
   "id": "1da36629-d5f2-4a74-8a85-e9b52597d3e7",
   "metadata": {},
   "outputs": [
    {
     "data": {
      "text/latex": [
       "$\\displaystyle \\left[\\begin{matrix}-58\\end{matrix}\\right]$"
      ],
      "text/plain": [
       "Matrix([[-58]])"
      ]
     },
     "execution_count": 31,
     "metadata": {},
     "output_type": "execute_result"
    }
   ],
   "source": [
    "u.T*v"
   ]
  },
  {
   "cell_type": "markdown",
   "id": "1e98ded9-e3e0-44e6-b737-59fa61861aa2",
   "metadata": {},
   "source": [
    "The dot product also gives information about the angle between two vectors."
   ]
  },
  {
   "cell_type": "code",
   "execution_count": 60,
   "id": "71d836f3-89c9-4d29-a679-b79edd9254c3",
   "metadata": {},
   "outputs": [
    {
     "data": {
      "image/png": "[encoded data removed]",
      "text/plain": [
       "<Figure size 432x288 with 1 Axes>"
      ]
     },
     "metadata": {
      "needs_background": "light"
     },
     "output_type": "display_data"
    }
   ],
   "source": [
    "import matplotlib.pyplot as plt\n",
    "import numpy as np\n",
    "import math\n",
    "\n",
    "ax = plt.axes()\n",
    "\n",
    "ax.annotate('u = (2,5)', (2.5, 5), fontsize=12)\n",
    "ax.annotate('v = (5,-2)', (4, -4),fontsize=12)\n",
    "ax.annotate('90 deg', (1, 0),fontsize=12)\n",
    "\n",
    "plt.quiver([0, 0], [0, 0], [2, 5], [5, -2], angles='xy', scale_units='xy', scale=0.5)\n",
    "\n",
    "plt.xlim(-10, 10)\n",
    "plt.ylim(-10, 10)\n",
    "plt.show()"
   ]
  },
  {
   "cell_type": "code",
   "execution_count": 61,
   "id": "2e5b5f66-5a1a-4a2c-8bf1-cf7c2d1dbcb1",
   "metadata": {},
   "outputs": [
    {
     "data": {
      "text/latex": [
       "$\\displaystyle \\left[\\begin{matrix}0\\end{matrix}\\right]$"
      ],
      "text/plain": [
       "Matrix([[0]])"
      ]
     },
     "execution_count": 61,
     "metadata": {},
     "output_type": "execute_result"
    }
   ],
   "source": [
    "u = Matrix([[2, 5]]).T\n",
    "v = Matrix([[5,-2]]).T\n",
    "u.T*v"
   ]
  },
  {
   "cell_type": "markdown",
   "id": "1a239147-32c1-4c70-8900-30227f871987",
   "metadata": {},
   "source": [
    "Vectors $\\bf{u}$ and $\\bf{v}$ are perpendicular or orthogonal if and only if their dot product is zero.\n",
    "Two vectors $\\bf{u}$ and $\\bf{v}$ are said to be perpendicular or orthogonal $\\iff$ $\\bf{u.v}$ = 0."
   ]
  },
  {
   "cell_type": "markdown",
   "id": "fb3843b7-c3d4-43a5-98b5-c86e7ea8fcb0",
   "metadata": {},
   "source": [
    "### 2.1.3 Properties of dot (inner) product"
   ]
  },
  {
   "cell_type": "markdown",
   "id": "57a1816b-7342-40ac-b91a-a83b2fc1f2a9",
   "metadata": {},
   "source": [
    "##### Proposition (2.6) Let $\\bf{u}$, $\\bf{v}$ and $\\bf{w}$ be vectors in $\\mathbb{R}^{n}$ and $k$ be a real number. Therefore:"
   ]
  },
  {
   "cell_type": "markdown",
   "id": "b3f62fd6-3342-43fe-a2db-f3007764d43f",
   "metadata": {},
   "source": [
    "(i) $(\\bf{u+v}).\\bf{w}$ = $\\bf{u}.\\bf{w}+\\bf{v}.\\bf{w}$"
   ]
  },
  {
   "cell_type": "markdown",
   "id": "ac67d19f-493a-4b3b-9b5e-1fe82603065a",
   "metadata": {},
   "source": [
    "(ii) $\\bf{u}.\\bf{v}$ = $\\bf{v}.\\bf{u}$"
   ]
  },
  {
   "cell_type": "markdown",
   "id": "abf43170-1c7c-4089-bfe2-c2e68bd224e4",
   "metadata": {},
   "source": [
    "(iii) $(k\\bf{u}).\\bf{v}$ = $k(\\bf{u}.\\bf{v})$ = $(\\bf{u}.k\\bf{v})$"
   ]
  },
  {
   "cell_type": "markdown",
   "id": "2c2fcdbf-9609-4516-ab30-132b4d726400",
   "metadata": {},
   "source": [
    "(iv) $\\bf{u.u} \\ge 0$ and $\\bf{u.u}$ = 0 $\\iff \\bf{u}$ = $\\bf{O}$"
   ]
  },
  {
   "cell_type": "markdown",
   "id": "2ee0d80e-8902-430a-abba-55724c5db681",
   "metadata": {},
   "source": [
    "Matrix multiplication is $\\bf{not}$ commutative, but the dot product $\\bf{is}$. "
   ]
  },
  {
   "cell_type": "markdown",
   "id": "bf7c4df1-7408-4c7b-93f4-13737091d781",
   "metadata": {},
   "source": [
    "### 2.1.4 The norm or length of a vector"
   ]
  },
  {
   "cell_type": "markdown",
   "id": "17793d9f-c2bb-4068-840a-11af6ac7b588",
   "metadata": {},
   "source": [
    "Let $\\bf{u}$ be a vector in $\\mathbb{R}^{n}$. The length (norm) of $\\bf{u}$ is denoted by $\\lVert\\bf{u}\\rVert$."
   ]
  },
  {
   "cell_type": "markdown",
   "id": "12019533-a555-4030-bb30-1ee19a5b95e1",
   "metadata": {},
   "source": [
    "By Pythagoras' Theorem. The length (Euclidean norm) of a vector $\\bf{u}$ = \n",
    "$\\begin{pmatrix}\n",
    "  u_{1} \\\\\n",
    "  u_{2} \\\\\n",
    "  \\vdots \\\\\n",
    "  u_{n}\n",
    "\\end{pmatrix}$ in $\\mathbb{R}^{n}$ is given by: $\\lVert\\bf{u}\\rVert$ = $\\sqrt[2]{(u_{1})^2+(u_{2})^2+...+(u_{n})^2}$ = $\\sqrt[2]{\\textbf{u.u}} = \\sqrt[2]{u_{1}.u_{1}+u_{2}.u_{2}+ ... + u_{n}.u_{n}}$."
   ]
  },
  {
   "cell_type": "markdown",
   "id": "134be68a-0a63-4373-abdb-538e278b935e",
   "metadata": {},
   "source": [
    "##### Distance Function"
   ]
  },
  {
   "cell_type": "markdown",
   "id": "4a379cd5-56d2-4626-9f68-996698441d23",
   "metadata": {},
   "source": [
    "A distance function $d(\\bf{u}, \\bf{v})$ between\n",
    "$\\bf{u}$ = $\n",
    "\\begin{pmatrix}\n",
    "  u_{1} \\\\\n",
    "  u_{2} \\\\\n",
    "  \\vdots \\\\\n",
    "  u_{n}\n",
    "\\end{pmatrix}\n",
    "$ and \n",
    "$\\bf{v}$ = $\n",
    "\\begin{pmatrix}\n",
    "  v_{1} \\\\\n",
    "  v_{2} \\\\\n",
    "  \\vdots \\\\\n",
    "  v_{n}\n",
    "\\end{pmatrix}\n",
    "$ in $\\mathbb{R}^{n}$ and is defined as $d(\\bf{u}, \\bf{v})$ = $\\lVert\\bf{u}-\\bf{v}\\rVert$."
   ]
  },
  {
   "cell_type": "markdown",
   "id": "fd4853b4-ce8b-4d15-941d-3a71e15a04c4",
   "metadata": {},
   "source": [
    "### 2.1.5 Properties of the norm of a vector"
   ]
  },
  {
   "cell_type": "markdown",
   "id": "1546ba1a-c53f-4665-bd21-f9305b3c1c7f",
   "metadata": {},
   "source": [
    "##### Proposition (2.10) - Let $\\bf{u}$ be a vector in $\\mathbb{R}^{n}$ and $k$ a be real number. Therefore:"
   ]
  },
  {
   "cell_type": "markdown",
   "id": "742ea5db-fc72-45f0-a70e-aa458f2038a5",
   "metadata": {},
   "source": [
    "(i) $\\lVert\\bf{u}\\rVert \\ge 0$ and $\\lVert\\bf{u}\\rVert$ = $0 \\iff \\bf{u} = \\bf{O}$."
   ]
  },
  {
   "cell_type": "markdown",
   "id": "74a237a6-5330-4be0-b110-6e4005c0b503",
   "metadata": {},
   "source": [
    "(ii) $\\lVert k\\bf{u}\\rVert$ = $|k|\\lVert\\bf{u}\\rVert$"
   ]
  },
  {
   "cell_type": "markdown",
   "id": "913e335e-3067-484f-82a1-4348d7b8d96a",
   "metadata": {},
   "source": [
    "## Section 2.2 Further Properties of Vectors"
   ]
  },
  {
   "cell_type": "markdown",
   "id": "1693e90c-a27a-4789-ac3a-67351d567c5e",
   "metadata": {},
   "source": [
    "### 2.2.1 Revision of norm and dot product"
   ]
  },
  {
   "cell_type": "markdown",
   "id": "0b51ac1d-9d6c-4c2e-bbb2-9b3f848a58e0",
   "metadata": {},
   "source": [
    "##### Example 2.6"
   ]
  },
  {
   "cell_type": "code",
   "execution_count": 70,
   "id": "645f8cec-bdb0-40bf-bbfb-7a9e514cd6c5",
   "metadata": {},
   "outputs": [],
   "source": [
    "from sympy import Matrix\n",
    "\n",
    "u = Matrix([[1, 5]])\n",
    "v = Matrix([[4, 1]])"
   ]
  },
  {
   "cell_type": "code",
   "execution_count": 71,
   "id": "adccbf0b-14d3-40bb-a491-d3f037ec1390",
   "metadata": {},
   "outputs": [
    {
     "data": {
      "text/latex": [
       "$\\displaystyle 9$"
      ],
      "text/plain": [
       "9"
      ]
     },
     "execution_count": 71,
     "metadata": {},
     "output_type": "execute_result"
    }
   ],
   "source": [
    "abs(u.dot(v))"
   ]
  },
  {
   "cell_type": "code",
   "execution_count": 72,
   "id": "c25ba53f-0c52-4a1a-80f8-cc405b3e6712",
   "metadata": {},
   "outputs": [
    {
     "data": {
      "text/latex": [
       "$\\displaystyle \\sqrt{442}$"
      ],
      "text/plain": [
       "sqrt(442)"
      ]
     },
     "execution_count": 72,
     "metadata": {},
     "output_type": "execute_result"
    }
   ],
   "source": [
    "u.norm() * v.norm()"
   ]
  },
  {
   "cell_type": "code",
   "execution_count": 68,
   "id": "8d057a71-de76-4f23-b8f3-c6c347a980f1",
   "metadata": {},
   "outputs": [
    {
     "data": {
      "text/latex": [
       "$\\displaystyle \\sqrt{17} + \\sqrt{26}$"
      ],
      "text/plain": [
       "sqrt(17) + sqrt(26)"
      ]
     },
     "execution_count": 68,
     "metadata": {},
     "output_type": "execute_result"
    }
   ],
   "source": [
    "u.norm() + v.norm()"
   ]
  },
  {
   "cell_type": "code",
   "execution_count": 69,
   "id": "41b47caa-9bda-4f19-97c4-3d194e2d239a",
   "metadata": {},
   "outputs": [
    {
     "data": {
      "text/latex": [
       "$\\displaystyle \\sqrt{61}$"
      ],
      "text/plain": [
       "sqrt(61)"
      ]
     },
     "execution_count": 69,
     "metadata": {},
     "output_type": "execute_result"
    }
   ],
   "source": [
    "(u+v).norm()"
   ]
  },
  {
   "cell_type": "markdown",
   "id": "b2b27c57-fb99-4c29-bb7f-b2225c5d807a",
   "metadata": {},
   "source": [
    "### 2.2.2 Angle between two vectors"
   ]
  },
  {
   "cell_type": "code",
   "execution_count": 99,
   "id": "1fdbf956-cb01-4a4e-a70a-7e9d7d0b070d",
   "metadata": {},
   "outputs": [
    {
     "data": {
      "image/png": "[encoded data removed]",
      "text/plain": [
       "<Figure size 432x288 with 1 Axes>"
      ]
     },
     "metadata": {
      "needs_background": "light"
     },
     "output_type": "display_data"
    }
   ],
   "source": [
    "import matplotlib.pyplot as plt\n",
    "import numpy as np\n",
    "import math\n",
    "\n",
    "ax = plt.axes()\n",
    "\n",
    "ax.annotate('||v||', (2.5, 5), fontsize=12)\n",
    "ax.annotate('||u||', (4, -4),fontsize=12)\n",
    "ax.annotate('||v-u||', (7, 4),fontsize=12)\n",
    "ax.annotate('θ', (1, 0),fontsize=12)\n",
    "\n",
    "plt.quiver([0, 0, 4], [0, 0, 10], [2, 5, 3], [5, -2, -7], angles='xy', scale_units='xy', scale=0.5)\n",
    "\n",
    "plt.xlim(-10, 10)\n",
    "plt.ylim(-10, 10)\n",
    "plt.show()"
   ]
  },
  {
   "cell_type": "markdown",
   "id": "2ded55df-866a-48e9-a5c0-83e94eb78b1d",
   "metadata": {},
   "source": [
    "From the Cosine rule: $\\lVert\\bf{v}-\\bf{u}\\rVert^2$ = $\\bf{v}^2$+$\\bf{u}^2$-$2\\lVert\\bf{v}\\rVert \\lVert\\bf{u}\\rVert cos(\\theta)$."
   ]
  },
  {
   "cell_type": "markdown",
   "id": "b6b2e358-3afb-431a-a957-e33874aacd2f",
   "metadata": {},
   "source": [
    "Rearranging this, we can get: $\\lVert\\bf{v}\\rVert\\lVert\\bf{u}\\rVert cos(\\theta)$ = $\\bf{u}_{1}\\bf{v}_{1} + \\bf{u}_{2}\\bf{v}_{2}$ = $\\bf{u.v}$."
   ]
  },
  {
   "cell_type": "markdown",
   "id": "67417b8f-847c-489f-8bfd-2eaa775958d5",
   "metadata": {},
   "source": [
    "Therefore the dot product is nothing but, the product of the norm of the vectors multiplied by the $cos(\\theta)$."
   ]
  },
  {
   "cell_type": "markdown",
   "id": "e95e2f7b-ee4e-4715-8f27-1f75b59a7dfb",
   "metadata": {},
   "source": [
    "We can also, isolate $cos(\\theta)$ = $\\frac{\\bf{u.v}}{\\lVert\\bf{v}\\rVert\\lVert\\bf{u}\\rVert}$"
   ]
  },
  {
   "cell_type": "markdown",
   "id": "8c0f1513-c920-42f0-b435-3ee10fd54105",
   "metadata": {},
   "source": [
    "##### Notes"
   ]
  },
  {
   "cell_type": "markdown",
   "id": "bf74c21c-7295-4b0e-99f5-175c96afce3d",
   "metadata": {},
   "source": [
    "(a) if two vectors are pointing in the same direction then the dot product is positive."
   ]
  },
  {
   "cell_type": "markdown",
   "id": "b421eccf-8814-43b4-ae0e-c94e96189a89",
   "metadata": {},
   "source": [
    "(b) if two vectors are pointing in the opposite direction then the dot product is negative."
   ]
  },
  {
   "cell_type": "markdown",
   "id": "0c3f0bae-f31b-4ef1-bfae-04c0649169fc",
   "metadata": {},
   "source": [
    "(c) if two vectors are perpendicular then the dot product is zero."
   ]
  },
  {
   "cell_type": "markdown",
   "id": "fd36abb6-0c57-42fa-9d79-4f6550c92fff",
   "metadata": {},
   "source": [
    "##### Example 2.7"
   ]
  },
  {
   "cell_type": "code",
   "execution_count": 101,
   "id": "70ab177a-83d6-42b6-a1f7-892c578fd097",
   "metadata": {},
   "outputs": [],
   "source": [
    "from sympy import Matrix\n",
    "\n",
    "u = Matrix([[-5, -1]])\n",
    "v = Matrix([[4, 2]])"
   ]
  },
  {
   "cell_type": "markdown",
   "id": "2b0ddbf8-063c-4225-bb5d-ce9d9c59fcc7",
   "metadata": {},
   "source": [
    "Find the angle between u and v."
   ]
  },
  {
   "cell_type": "code",
   "execution_count": 108,
   "id": "76456984-97b8-4875-96e2-c3591bfde685",
   "metadata": {},
   "outputs": [],
   "source": [
    "cos_theta = (u.dot(v)) / (u.norm()*v.norm())"
   ]
  },
  {
   "cell_type": "code",
   "execution_count": 117,
   "id": "611a54b7-87de-4be2-b07c-f588e6adfa7a",
   "metadata": {},
   "outputs": [
    {
     "data": {
      "text/plain": [
       "164.7448812969422"
      ]
     },
     "execution_count": 117,
     "metadata": {},
     "output_type": "execute_result"
    }
   ],
   "source": [
    "math.degrees(math.acos(cos_theta))"
   ]
  },
  {
   "cell_type": "markdown",
   "id": "d0ab0151-4d3b-4f62-ac53-804ef0075441",
   "metadata": {},
   "source": [
    "### 2.2.3 Inequalities"
   ]
  },
  {
   "cell_type": "markdown",
   "id": "844ec3ae-7f90-447a-909d-123cd723c9c6",
   "metadata": {},
   "source": [
    "##### Cauchy-Schwarz inequality (2.14). Let $\\bf{u}$ and $\\bf{v}$ be vectors in $\\mathbb{R}^{n}$ then $|\\bf{u.v} | \\le \\lVert\\bf{u}\\rVert\\lVert\\bf{v}\\rVert$"
   ]
  },
  {
   "cell_type": "markdown",
   "id": "abdf3bdc-9647-445a-9a91-1a8fcd2b3331",
   "metadata": {},
   "source": [
    "##### Minkowski (triangular) inequality (2.14). Let $\\bf{u}$ and $\\bf{v}$ be vectors in $\\mathbb{R}^{n}$ then $\\lVert\\bf{u+v}\\rVert \\le \\lVert\\bf{u}\\rVert\\lVert\\bf{v}\\rVert$"
   ]
  },
  {
   "cell_type": "markdown",
   "id": "5356b3fd-0c4f-4988-ae3d-84c2b2a39989",
   "metadata": {},
   "source": [
    "### 2.2.4 Unit vectors"
   ]
  },
  {
   "cell_type": "markdown",
   "id": "491d909e-b9b5-4155-b555-c79858473f0f",
   "metadata": {},
   "source": [
    "An $\\bf{unit}$ $\\bf{vector}$ is a vector $\\bf{u}$ of length 1."
   ]
  },
  {
   "cell_type": "markdown",
   "id": "c25b3016-eb7e-4ab5-8f1f-312889c558aa",
   "metadata": {},
   "source": [
    "We can find the unit vector of any vector $\\bf{u}$ by computing $\\bf{û}$ = $\\frac{1}{\\lVert\\bf{u}\\rVert}\\bf{u}$. This process is known as normalization."
   ]
  },
  {
   "cell_type": "markdown",
   "id": "51fc7b49-8c87-4be1-a5f0-6fe74929a0be",
   "metadata": {},
   "source": [
    "### 2.2.5 Applications of vectors"
   ]
  },
  {
   "cell_type": "markdown",
   "id": "76946f3f-587a-4b28-a362-a90687d02278",
   "metadata": {},
   "source": [
    "Support Vector Machine is a computer algorithm that produces the best hyperplane which separates data groups. In this context, we are interested in finding the shortest distance between the hyperplane and the vectors."
   ]
  },
  {
   "cell_type": "markdown",
   "id": "fab4b131-8f97-4443-9fb3-9c9f9b3a4214",
   "metadata": {},
   "source": [
    "The shortest distance from a vector $\\bf{u}$ to the hyperplane $\\bf{v}\\bf{x} + c = 0$ is equal to $\\frac{|\\bf{u}\\bf{v} + c|}{\\lVert\\bf{v}\\rVert} $"
   ]
  },
  {
   "cell_type": "markdown",
   "id": "0b8e21cf-b84b-49b6-aa55-9659cb1a03e7",
   "metadata": {},
   "source": [
    "## Section 2.3 Linear Independence"
   ]
  },
  {
   "cell_type": "markdown",
   "id": "e2eab2a3-ef0f-4b8e-9025-10d305d1060a",
   "metadata": {},
   "source": [
    "### 2.3.1 Standard unit vectors in $\\mathbb{R}^{n}$"
   ]
  },
  {
   "cell_type": "markdown",
   "id": "a387b273-d7e1-4e69-adbc-28ae144888e5",
   "metadata": {},
   "source": [
    "Standard unit vectors are column vectors with 1 in the $k$th position of the vector $\\textbf{e}_{k}$ and zeros everywhere else."
   ]
  },
  {
   "cell_type": "markdown",
   "id": "c9667c07-b664-4aa1-bb0c-49d7aee44290",
   "metadata": {},
   "source": [
    "We can write any vector $\\bf{u}$ of $\\mathbb{R}^{n}$ in terms of scalars and standard unit vectors."
   ]
  },
  {
   "cell_type": "markdown",
   "id": "806e7144-6017-4984-86ea-daa44c8a0821",
   "metadata": {},
   "source": [
    "##### Proposition (2.17). Let $\\bf{u}$ = $(x_{1}, ..., x_{k}, ..., x_{n})^T$ be any vector in $\\mathbb{R}^{n}$ then"
   ]
  },
  {
   "cell_type": "markdown",
   "id": "9d15e968-cec9-4a9c-a211-e8abfa1de240",
   "metadata": {},
   "source": [
    "$\\bf{u}$ = $x_{1}\\textbf{e}_{1} + x_{2}\\textbf{e}_{2} + ... + x_{k}\\textbf{e}_{k} + ... + x_{n}\\textbf{e}_{n}$"
   ]
  },
  {
   "cell_type": "markdown",
   "id": "96bf50e0-93eb-4113-b12a-c056bdb8002f",
   "metadata": {},
   "source": [
    "Example $\\bf{u}$ = $\\begin{pmatrix}\n",
    "  2 \\\\\n",
    "  3\n",
    "\\end{pmatrix}$ in $\\mathbb{R}^{n}$ ca be written as $\\begin{pmatrix}\n",
    "  2 \\\\\n",
    "  3\n",
    "\\end{pmatrix}$ = $2\\begin{pmatrix} 1 \\\\ 0 \\end{pmatrix} + 3\\begin{pmatrix} 0 \\\\ 1 \\end{pmatrix}$ = $2\\textbf{e}_{1} + 3\\textbf{e}_{2}$"
   ]
  },
  {
   "cell_type": "markdown",
   "id": "10d26d34-b089-45f5-afc2-0b2b0a9b5650",
   "metadata": {},
   "source": [
    "$\\textbf{u}$ is a linear combination of scalars and standard unit vectors."
   ]
  },
  {
   "cell_type": "markdown",
   "id": "7d2ead1f-e45d-4c55-8e21-8bf6e53da111",
   "metadata": {},
   "source": [
    "### 2.3.2 Linear independence"
   ]
  },
  {
   "cell_type": "markdown",
   "id": "28e8e110-7639-44e4-854d-5629ff9210e1",
   "metadata": {},
   "source": [
    "We say that two or more vectors are linearly independent when they cannot be made by a linear combination of the others."
   ]
  },
  {
   "cell_type": "markdown",
   "id": "48dcdd74-a2e7-45d5-9abf-5604c831d0ec",
   "metadata": {},
   "source": [
    "##### Definition (2.19) We say vectors $\\bf{v_{1}}$, $\\bf{v_{2}}$, $\\bf{v_{3}}$, ..., and $\\bf{v_{n}}$ in $\\mathbb{R}^{n}$ are linearly independent $\\iff$ the only scalars $k_{1}$, $k_{2}$, $k_{3}$, ..., and $k_{n}$ which satisfy: $k_{1}\\bf{v_{1}}$ + $k_{2}\\bf{v_{2}}$ + $k_{3}\\bf{v_{3}}$ + ... + $k_{n}\\bf{v_{n}}$ = $\\bf{O}$ are $k_{1}$ = $k_{2}$ = $k_{3}$ = ... = $k_{n}$ = $\\bf{O}$."
   ]
  },
  {
   "cell_type": "markdown",
   "id": "dfb52bc4-a10e-4d47-8fcd-038b42b53250",
   "metadata": {},
   "source": [
    "Example (2.11). Show that $\\bf{u}$ = $\\begin{pmatrix} -1 \\\\ 1 \\end{pmatrix}$ and $\\bf{v}$ = $\\begin{pmatrix} 2 \\\\ 3 \\end{pmatrix}$ are linearly independent in $\\mathbb{R}^{2}$ and plot them."
   ]
  },
  {
   "cell_type": "code",
   "execution_count": 18,
   "id": "10556724-bf00-4a3c-ac7a-5d845c5b38ea",
   "metadata": {},
   "outputs": [],
   "source": [
    "from sympy import *\n",
    "from sympy.solvers.solveset import linsolve\n",
    "\n",
    "x, y = symbols('k, c')\n",
    "\n",
    "u = Matrix([[-1, 1]])\n",
    "v = Matrix([[2, 3]])"
   ]
  },
  {
   "cell_type": "code",
   "execution_count": 28,
   "id": "8e091687-e2b1-46d5-894e-968a066a8984",
   "metadata": {},
   "outputs": [
    {
     "data": {
      "text/latex": [
       "$\\displaystyle \\left\\{\\left( 0, \\  0\\right)\\right\\}$"
      ],
      "text/plain": [
       "FiniteSet((0, 0))"
      ]
     },
     "execution_count": 28,
     "metadata": {},
     "output_type": "execute_result"
    }
   ],
   "source": [
    "linsolve((Matrix([u,v]).T, zeros(2,1)), (x, y))"
   ]
  },
  {
   "cell_type": "markdown",
   "id": "d6258a78-bf64-4b2f-b111-b1e162fdd4d8",
   "metadata": {},
   "source": [
    "Therefore $\\bf{u}$ e $\\bf{v}$ are linearly independent."
   ]
  },
  {
   "cell_type": "code",
   "execution_count": 53,
   "id": "fcb79abc-ea6a-4689-866a-d5033956c270",
   "metadata": {},
   "outputs": [
    {
     "data": {
      "image/png": "[encoded data removed]",
      "text/plain": [
       "<Figure size 576x432 with 1 Axes>"
      ]
     },
     "metadata": {
      "needs_background": "light"
     },
     "output_type": "display_data"
    }
   ],
   "source": [
    "import numpy as np\n",
    "import matplotlib.pyplot as plt\n",
    "\n",
    "V = np.array([[-1,1], [2,3]])\n",
    "origin = np.array([[0, 0],[0, 0]]) # origin point\n",
    "\n",
    "fig, ax = plt.subplots(figsize=(8, 6))\n",
    "q = ax.quiver(*origin, V[:,0], V[:,1], color=['r','b'], units='xy', scale=1)\n",
    "\n",
    "plt.grid()\n",
    "ax.set_aspect('equal')\n",
    "\n",
    "plt.xlim(-3,3)\n",
    "plt.ylim(-3,3)\n",
    "\n",
    "plt.show()"
   ]
  },
  {
   "cell_type": "markdown",
   "id": "f4cc9471-9aa8-4c38-a918-eb38cfd20054",
   "metadata": {},
   "source": [
    "### 2.3.3 Linear dependence"
   ]
  },
  {
   "cell_type": "markdown",
   "id": "1c60d027-0fe7-460d-9f11-5db32b426def",
   "metadata": {},
   "source": [
    "##### Definition (2.19) We say vectors $\\bf{v_{1}}$, $\\bf{v_{2}}$, $\\bf{v_{3}}$, ..., and $\\bf{v_{n}}$ in $\\mathbb{R}^{n}$ are linearly dependent $\\iff$ the only scalars $k_{1}$, $k_{2}$, $k_{3}$, ..., and $k_{n}$ are not all zero and satisfy: $k_{1}\\bf{v_{1}}$ + $k_{2}\\bf{v_{2}}$ + $k_{3}\\bf{v_{3}}$ + ... + $k_{n}\\bf{v_{n}}$ = $\\bf{O}$."
   ]
  },
  {
   "cell_type": "markdown",
   "id": "0861f118-6fda-42ac-bceb-c64bb4227046",
   "metadata": {},
   "source": [
    "Example (2.12). Show that $\\bf{u}$ = $\\begin{pmatrix} -3 \\\\ 1 \\end{pmatrix}$ and $\\bf{v}$ = $\\begin{pmatrix} 1 \\\\ -1/3 \\end{pmatrix}$ are linearly dependent in $\\mathbb{R}^{2}$ and plot them."
   ]
  },
  {
   "cell_type": "code",
   "execution_count": 65,
   "id": "eeafa272-50ef-4886-b028-b9ff6e42f811",
   "metadata": {},
   "outputs": [],
   "source": [
    "from sympy import *\n",
    "from sympy.solvers.solveset import linsolve\n",
    "\n",
    "x, y = symbols('k, c')\n",
    "\n",
    "u = Matrix([[-3, 1]])\n",
    "v = Matrix([[1, -1/3]])"
   ]
  },
  {
   "cell_type": "code",
   "execution_count": 55,
   "id": "2884a163-864e-445e-8824-1ca8618a6aa0",
   "metadata": {},
   "outputs": [
    {
     "data": {
      "text/latex": [
       "$\\displaystyle \\left\\{\\left( 0.333333333333333 c, \\  c\\right)\\right\\}$"
      ],
      "text/plain": [
       "FiniteSet((0.333333333333333*c, c))"
      ]
     },
     "execution_count": 55,
     "metadata": {},
     "output_type": "execute_result"
    }
   ],
   "source": [
    "linsolve((Matrix([u,v]).T, zeros(2,1)), (x, y))"
   ]
  },
  {
   "cell_type": "markdown",
   "id": "adfe2263-476b-4c30-b93a-7c53d8f9898a",
   "metadata": {},
   "source": [
    "Note that $\\bf{u}$ = $-3\\bf{v}$ or $-1/3\\bf{u}$ = $\\bf{v}$"
   ]
  },
  {
   "cell_type": "code",
   "execution_count": 61,
   "id": "824a9e0d-6530-43eb-ad75-516dbd7ef5f1",
   "metadata": {},
   "outputs": [
    {
     "data": {
      "text/latex": [
       "$\\displaystyle \\left[\\begin{matrix}1.0 & -0.333333333333333\\end{matrix}\\right]$"
      ],
      "text/plain": [
       "Matrix([[1.0, -0.333333333333333]])"
      ]
     },
     "execution_count": 61,
     "metadata": {},
     "output_type": "execute_result"
    }
   ],
   "source": [
    "-1/3*u"
   ]
  },
  {
   "cell_type": "code",
   "execution_count": 56,
   "id": "aebabd8c-b3ff-4efb-9db9-73befac3db29",
   "metadata": {},
   "outputs": [
    {
     "data": {
      "image/png": "[encoded data removed]",
      "text/plain": [
       "<Figure size 576x432 with 1 Axes>"
      ]
     },
     "metadata": {
      "needs_background": "light"
     },
     "output_type": "display_data"
    }
   ],
   "source": [
    "import numpy as np\n",
    "import matplotlib.pyplot as plt\n",
    "\n",
    "V = np.array([[-3,1], [1,-1/3]])\n",
    "origin = np.array([[0, 0],[0, 0]]) # origin point\n",
    "\n",
    "fig, ax = plt.subplots(figsize=(8, 6))\n",
    "q = ax.quiver(*origin, V[:,0], V[:,1], color=['r','b'], units='xy', scale=1)\n",
    "\n",
    "plt.grid()\n",
    "ax.set_aspect('equal')\n",
    "\n",
    "plt.xlim(-3,3)\n",
    "plt.ylim(-3,3)\n",
    "\n",
    "plt.show()"
   ]
  },
  {
   "cell_type": "markdown",
   "id": "a7194db1-84de-4344-ae77-5e81ebd5dc1a",
   "metadata": {},
   "source": [
    "Example (2.12). Determine if the vectors $\\bf{u}$ = $\\begin{pmatrix} -3 \\\\ 1 \\\\ 0 \\end{pmatrix}$,\n",
    "$\\bf{v}$ = $\\begin{pmatrix} 0 \\\\ 1 \\\\ -1 \\end{pmatrix}$ and $\\bf{w}$ = $\\begin{pmatrix} 2 \\\\ 0 \\\\ 0 \\end{pmatrix}$ are linearly dependent or independent."
   ]
  },
  {
   "cell_type": "code",
   "execution_count": 75,
   "id": "c2019095-cf50-4f80-9f95-54a6a2937e16",
   "metadata": {},
   "outputs": [],
   "source": [
    "from sympy import *\n",
    "from sympy.solvers.solveset import linsolve\n",
    "\n",
    "x, y, z  = symbols('k, c, w')\n",
    "\n",
    "u = Matrix([[-3, 1, 0]])\n",
    "v = Matrix([[0, 1, -1]])\n",
    "w = Matrix([[2, 0, 0]])"
   ]
  },
  {
   "cell_type": "code",
   "execution_count": 76,
   "id": "bbf0396b-13a6-4cfb-ac41-98fc1d5e6191",
   "metadata": {},
   "outputs": [
    {
     "data": {
      "text/latex": [
       "$\\displaystyle \\left\\{\\left( 0, \\  0, \\  0\\right)\\right\\}$"
      ],
      "text/plain": [
       "FiniteSet((0, 0, 0))"
      ]
     },
     "execution_count": 76,
     "metadata": {},
     "output_type": "execute_result"
    }
   ],
   "source": [
    "linsolve((Matrix([u,v,w]).T, zeros(3,1)), (x, y, z))"
   ]
  },
  {
   "cell_type": "markdown",
   "id": "0f53c9d5-6464-44ef-9f34-8b4a793f4e13",
   "metadata": {},
   "source": [
    "They are linearly independent."
   ]
  },
  {
   "cell_type": "markdown",
   "id": "62f5756d-4a23-41ca-9c84-a1e2471ce9bc",
   "metadata": {},
   "source": [
    "### 2.3.4 Properties of linear dependence"
   ]
  },
  {
   "cell_type": "markdown",
   "id": "1c454221-4945-4e70-82d0-4d498a2a4983",
   "metadata": {},
   "source": [
    "$\\textbf{Proposition (2.21)}$. Let $\\bf{v_{1}}$, $\\bf{v_{2}}$, ... and $\\bf{v_{n}}$ be vectors in $\\mathbb{R}^{n}$. If at least one of these vectors, $\\bf{v_{j}}$ say, is the zero vector then the vectors $\\bf{v_{1}}$, $\\bf{v_{2}}$, ..., and $\\bf{v_{n}}$ are linearly dependent."
   ]
  },
  {
   "cell_type": "markdown",
   "id": "d6321bb3-d2a5-4d09-881f-0164956d0a32",
   "metadata": {},
   "source": [
    "$\\textbf{Proposition (2.22)}$. Let $\\bf{v_{1}}$, $\\bf{v_{2}}$, ... and $\\bf{v_{m}}$ be different vectors in $\\mathbb{R}^{n}$. If $n$ (number of rows) $<$ $m$ (number of columns), then $\\bf{v_{1}}$, $\\bf{v_{2}}$, ... and $\\bf{v_{m}}$ are linearly dependent."
   ]
  },
  {
   "cell_type": "markdown",
   "id": "5ef0c490-0d70-4cfa-9440-94f208f7e769",
   "metadata": {},
   "source": [
    "$\\textbf{Theorem (2.24)}$. Let $\\bf{A}$ be a $n$ by $n$ matrix, then the following six statements are equivalent:"
   ]
  },
  {
   "cell_type": "markdown",
   "id": "4cc802f0-2d5a-4c79-b207-451e59c4abc1",
   "metadata": {},
   "source": [
    "(a) The matrix $\\bf{A}$ is invertible (non-singular).<br>\n",
    "(b) The linear system $\\bf{Ax = O}$ only has the trivial solution $\\bf{x = O}$.<br>\n",
    "(c) The reduced row echelon form of the matrix A is the identity matrix $\\bf{I}$.<br>\n",
    "(d) $\\bf{A}$ is a product of elementary matrices.<br>\n",
    "(e) $\\bf{Ax = b}$ has a unique solution.<br>\n",
    "(f) Columns of matrix $\\bf{A}$ are linearly independent."
   ]
  },
  {
   "cell_type": "markdown",
   "id": "4946893d-d09b-4404-82e2-289cac733b50",
   "metadata": {},
   "source": [
    "## Section 2.4 Basis and Spanning Set"
   ]
  },
  {
   "cell_type": "markdown",
   "id": "2256a6bc-08e3-473b-aed8-d7e0f4a7b64c",
   "metadata": {},
   "source": [
    "A basis is a coordinate system which describes the Euclidean n-space."
   ]
  },
  {
   "cell_type": "markdown",
   "id": "c4746bd7-f386-46db-87a0-aaeb696a9d1a",
   "metadata": {},
   "source": [
    "### 2.4.1 Spanning sets"
   ]
  },
  {
   "cell_type": "markdown",
   "id": "7c609777-4697-4fdf-88a3-49813d72860c",
   "metadata": {},
   "source": [
    "$\\textbf{Definition (2.25)}$. Consider the $n$ vectors in the set $S$ = {$\\bf{v_{1}}$, $\\bf{v_{2}}$, $\\bf{v_{3}}$, ..., $\\bf{v_{n}}$} in $\\mathbb{R}^{n}$. If every vector in\n",
    "$\\mathbb{R}^{n}$ can be produced by a linear combination of these vectors $\\bf{v_{2}}$, $\\bf{v_{3}}$, ..., $\\bf{v_{n}}$ then we say these vectors span or generate the $n$-space, $\\mathbb{R}^{n}$. "
   ]
  },
  {
   "cell_type": "markdown",
   "id": "be7e73cf-843c-4ddb-9b90-358750225e90",
   "metadata": {},
   "source": [
    "The set $S$ is called the spanning set. Thus, $S$ spans $\\mathbb{R}^{n}$."
   ]
  },
  {
   "cell_type": "markdown",
   "id": "5b06d472-122d-4a7a-a013-22dd409baccd",
   "metadata": {},
   "source": [
    "### 2.4.2 Basis"
   ]
  },
  {
   "cell_type": "markdown",
   "id": "5b29c7cb-76ff-4417-91c7-aa92bdd879d8",
   "metadata": {},
   "source": [
    "$\\textbf{Definition (2.26)}$. Consider the $n$ vectors $\\bf{v_{1}}$, $\\bf{v_{2}}$, $\\bf{v_{3}}$, ..., $\\bf{v_{n}}$ in $\\mathbb{R}^{n}$. These vectors form a basis for $\\mathbb{R}^{n}$\n",
    "$\\iff$ <br>\n",
    "(i) $\\bf{v_{1}}$, $\\bf{v_{2}}$, $\\bf{v_{3}}$, ..., $\\bf{v_{n}}$ span $\\mathbb{R}^{n}$ and <br>\n",
    "(ii) $\\bf{v_{1}}$, $\\bf{v_{2}}$, $\\bf{v_{3}}$, ..., $\\bf{v_{n}}$ are linearly independent."
   ]
  },
  {
   "cell_type": "markdown",
   "id": "6b1bcab9-ef56-4b06-a830-2da30e6920dc",
   "metadata": {},
   "source": [
    "Using non-standard basis may bring out information that is hidden in the standard representation"
   ]
  },
  {
   "cell_type": "markdown",
   "id": "6ac2940b-776a-4996-8d98-2aa5aa53bd00",
   "metadata": {},
   "source": [
    "### 2.4.3 Properties of bases"
   ]
  },
  {
   "cell_type": "markdown",
   "id": "49e59285-c2bb-4277-be9f-0d8c3a4f59c6",
   "metadata": {},
   "source": [
    "$\\textbf{Proposition (2.27)}$. Any $n$ linearly independent vectors in $\\mathbb{R}^{n}$ form a basis for $\\mathbb{R}^{n}$."
   ]
  },
  {
   "cell_type": "markdown",
   "id": "60575daa-7e8f-4456-8bcf-6474c8ebf7bc",
   "metadata": {},
   "source": [
    "$\\textbf{Proposition (2.28)}$. Any $n$ vectors which span $\\mathbb{R}^{n}$ form a basis for $\\mathbb{R}^{n}$."
   ]
  },
  {
   "cell_type": "markdown",
   "id": "59080ae5-9516-4b44-baa5-8e14b941a70e",
   "metadata": {},
   "source": [
    "$\\textbf{Proposition (2.29)}$. Let the vectors $\\bf{v_{1}}$, $\\bf{v_{2}}$, ... and $\\bf{v_{n}}$ be a basis for $\\mathbb{R}^{n}$. Every vector in for $\\mathbb{R}^{n}$ can be written\n",
    "uniquely as a linear combination of the vectors in this basis."
   ]
  },
  {
   "cell_type": "markdown",
   "id": "04ba4923-21a4-433c-9370-c160de34e83b",
   "metadata": {},
   "source": [
    "$\\textbf{Lemma (2.30)}$. Let$T$ = $\\bf{w_{1}}$, $\\bf{w_{2}}$, ... and $\\bf{w_{m}}$ be a set of $m$ vectors that are linearly independent in $\\mathbb{R}^{n}$ then $m \\leqslant n$."
   ]
  },
  {
   "cell_type": "markdown",
   "id": "0f19e872-843d-4bcf-8fce-a3b1062c925c",
   "metadata": {},
   "source": [
    "$\\textbf{Proposition (2.31}$. Every basis of $\\mathbb{R}^{n}$ contains exactly $n$ vectors."
   ]
  },
  {
   "cell_type": "markdown",
   "id": "275da617-991f-4a4b-aafa-c5e5a277cbf4",
   "metadata": {},
   "source": [
    "$\\textbf{Proposition (2.32)}$. Any $n$ non-zero orthogonal vectors in $\\mathbb{R}^{n}$ form a basis for $\\mathbb{R}^{n}$."
   ]
  }
 ],
 "metadata": {
  "kernelspec": {
   "display_name": "Python 3",
   "language": "python",
   "name": "python3"
  },
  "language_info": {
   "codemirror_mode": {
    "name": "ipython",
    "version": 3
   },
   "file_extension": ".py",
   "mimetype": "text/x-python",
   "name": "python",
   "nbconvert_exporter": "python",
   "pygments_lexer": "ipython3",
   "version": "3.9.4"
  }
 },
 "nbformat": 4,
 "nbformat_minor": 5
}
