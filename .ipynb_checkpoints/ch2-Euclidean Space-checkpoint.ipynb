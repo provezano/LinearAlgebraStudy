{
 "cells": [
  {
   "cell_type": "markdown",
   "id": "938ccaa9-63af-47b8-8fb6-5ca91d384043",
   "metadata": {},
   "source": [
    "# Euclidean Space"
   ]
  },
  {
   "cell_type": "markdown",
   "id": "5b11ee20-6391-47b4-bb3a-022039638da2",
   "metadata": {},
   "source": [
    "## Section 2.1 Properties of Vectors"
   ]
  },
  {
   "cell_type": "markdown",
   "id": "8dfbdb64-32a5-4875-8479-0e98b9808982",
   "metadata": {},
   "source": [
    "A vector has two attributes: (1) lenght and (2) direction and can be of N dimensions."
   ]
  },
  {
   "cell_type": "markdown",
   "id": "c57fae6c-e765-4ee3-a7b1-d0a0172f6347",
   "metadata": {},
   "source": [
    "### 2.1.1 Vector Addition and scalar multiplication properties"
   ]
  },
  {
   "cell_type": "markdown",
   "id": "7a4dafb9-4266-4d1e-90ab-3354977fa370",
   "metadata": {},
   "source": [
    "##### Proposition (2.1) - Let $\\bf{u}$, $\\bf{v}$ and $\\bf{w}$ be vectors in $\\mathbb{R}^{n}$ and $k$, $c$ be real numbers. Therefore:"
   ]
  },
  {
   "cell_type": "markdown",
   "id": "e3f35152-2cfa-4eb4-ae2b-c19302522785",
   "metadata": {},
   "source": [
    "(i) $\\bf{u} + \\bf{v} = \\bf{v} + \\bf{u}$"
   ]
  },
  {
   "cell_type": "markdown",
   "id": "df7a1f81-0ff5-40f6-a80d-b4e77e2c565d",
   "metadata": {},
   "source": [
    "(ii) ($\\bf{u} + \\bf{v}) + \\bf{w} = \\bf{v} + (\\bf{u}$ + \\bf{w})"
   ]
  },
  {
   "cell_type": "markdown",
   "id": "41bdc29c-1083-4acf-94ce-65093639125d",
   "metadata": {},
   "source": [
    "(iii) There exists a zero vector $\\bf{O}$ such that $\\bf{u} + \\bf{O}$ = $\\bf{u}$"
   ]
  },
  {
   "cell_type": "markdown",
   "id": "bd62832e-6f5e-4c97-8539-baac7b155faa",
   "metadata": {},
   "source": [
    "(iv) For every vector $\\bf{u}$ there is a vector $-\\bf{u}$ such that $\\bf{u} + (-\\bf{u}) = \\bf{O}$"
   ]
  },
  {
   "cell_type": "markdown",
   "id": "13cfca68-27df-480a-bdb4-514ddbc54236",
   "metadata": {},
   "source": [
    "(v) $k(\\bf{u}+\\bf{v}) = k\\bf{u}+k\\bf{v}$"
   ]
  },
  {
   "cell_type": "markdown",
   "id": "e36e7f79-8ac6-4624-88c8-2e032f0396f2",
   "metadata": {},
   "source": [
    "(vi) $(k + c)\\bf{u} = k\\bf{u} + c\\bf{u}$"
   ]
  },
  {
   "cell_type": "markdown",
   "id": "2460f21c-09de-4953-8a06-ce36ac365f17",
   "metadata": {},
   "source": [
    "(vii) $(kc)\\bf{u} = k(c\\bf{u})$"
   ]
  },
  {
   "cell_type": "markdown",
   "id": "843c43ea-03e3-41f2-afc9-e69c7b15cc5c",
   "metadata": {},
   "source": [
    "(viii) For every vector $\\bf{u}$ we have $1\\bf{u} = \\bf{u}$"
   ]
  },
  {
   "cell_type": "markdown",
   "id": "49f11263-7d56-4c91-9573-1b8bc0c7ca55",
   "metadata": {},
   "source": [
    "### 2.1.2 Dot(inner) product revisited"
   ]
  },
  {
   "cell_type": "markdown",
   "id": "1b9748bb-9b26-4783-82df-26037c3d9487",
   "metadata": {},
   "source": [
    "Let $\\bf a$ = $\n",
    "\\begin{pmatrix}\n",
    "  u_{1} \\\\\n",
    "  u_{2} \\\\\n",
    "  \\vdots \\\\\n",
    "  u_{n}\n",
    "\\end{pmatrix}\n",
    "$ and \n",
    "$\\bf b$ = $\n",
    "\\begin{pmatrix}\n",
    "  v_{1} \\\\\n",
    "  v_{2} \\\\\n",
    "  \\vdots \\\\\n",
    "  v_{n}\n",
    "\\end{pmatrix}\n",
    "$\n",
    "be vectors in $\\mathbb{R}^{n}$, then the dot product of $\\bf u$ and $\\bf v$ which is denoted by $\\textbf{u.v}$ is given by\n",
    "$\\textbf{u.v} = u_{1}.v_{1}+u_{2}.v_{2}+ ... + u_{n}.v_{n}$"
   ]
  },
  {
   "cell_type": "markdown",
   "id": "92282432-0fd8-4e1e-a0dc-a484124ae140",
   "metadata": {},
   "source": [
    "This is the same as the matrix multiplication of the transpose of $\\bf{u}$ by the column vector $\\bf{v}$."
   ]
  },
  {
   "cell_type": "markdown",
   "id": "246f9448-ac6f-4844-ac75-4c2dbfca6c1b",
   "metadata": {},
   "source": [
    "$\\bf{u.v}$ = $\\bf{u^{T}.v}$ = $\\begin{pmatrix}\n",
    "  u_{1} \\\\\n",
    "  u_{2} \\\\\n",
    "  \\vdots \\\\\n",
    "  u_{n}\n",
    "\\end{pmatrix}^{T}\n",
    "\\begin{pmatrix}\n",
    "  v_{1} \\\\\n",
    "  v_{2} \\\\\n",
    "  \\vdots \\\\\n",
    "  v_{n}\n",
    "\\end{pmatrix}$ = $ \n",
    "\\begin{pmatrix}\n",
    "u_{1} & u_{2} & ... & u_{n}\n",
    "\\end{pmatrix}\n",
    "\\begin{pmatrix}\n",
    "  v_{1} \\\\\n",
    "  v_{2} \\\\\n",
    "  \\vdots \\\\\n",
    "  v_{n}\n",
    "\\end{pmatrix}\n",
    "$ = $u_{1}v_{1} + u_{2}v_{2} + u_{3}v_{3} + ... u_{n}v_{n}$"
   ]
  },
  {
   "cell_type": "markdown",
   "id": "d89f2446-edde-44ff-a0ef-c78da287d05d",
   "metadata": {},
   "source": [
    "#### Example 2.1 Let $\\bf{u}$ = $\\begin{pmatrix}\n",
    "-3 & 1 & 7 & -5\n",
    "\\end{pmatrix}^{T}$ and $\\bf{v}$ = $\\begin{pmatrix}\n",
    "9 & 2 & -4 & 1\n",
    "\\end{pmatrix}^{T}$. Find u.v."
   ]
  },
  {
   "cell_type": "code",
   "execution_count": 26,
   "id": "97897935-3690-46b1-a66d-77c9824c26d8",
   "metadata": {},
   "outputs": [],
   "source": [
    "from sympy import Matrix\n",
    "\n",
    "u = Matrix([[-3, 1, 7, -5]]).T\n",
    "v = Matrix([[9, 2, -4, 1]]).T"
   ]
  },
  {
   "cell_type": "code",
   "execution_count": 27,
   "id": "96a41a8e-fa83-4766-9c8a-181b337b4845",
   "metadata": {},
   "outputs": [
    {
     "data": {
      "text/latex": [
       "$\\displaystyle \\left[\\begin{matrix}-3\\\\1\\\\7\\\\-5\\end{matrix}\\right]$"
      ],
      "text/plain": [
       "Matrix([\n",
       "[-3],\n",
       "[ 1],\n",
       "[ 7],\n",
       "[-5]])"
      ]
     },
     "execution_count": 27,
     "metadata": {},
     "output_type": "execute_result"
    }
   ],
   "source": [
    "u"
   ]
  },
  {
   "cell_type": "code",
   "execution_count": 28,
   "id": "3fb4ce2e-124e-4166-8663-d82bd13c1258",
   "metadata": {},
   "outputs": [
    {
     "data": {
      "text/latex": [
       "$\\displaystyle \\left[\\begin{matrix}9\\\\2\\\\-4\\\\1\\end{matrix}\\right]$"
      ],
      "text/plain": [
       "Matrix([\n",
       "[ 9],\n",
       "[ 2],\n",
       "[-4],\n",
       "[ 1]])"
      ]
     },
     "execution_count": 28,
     "metadata": {},
     "output_type": "execute_result"
    }
   ],
   "source": [
    "v"
   ]
  },
  {
   "cell_type": "code",
   "execution_count": 31,
   "id": "1da36629-d5f2-4a74-8a85-e9b52597d3e7",
   "metadata": {},
   "outputs": [
    {
     "data": {
      "text/latex": [
       "$\\displaystyle \\left[\\begin{matrix}-58\\end{matrix}\\right]$"
      ],
      "text/plain": [
       "Matrix([[-58]])"
      ]
     },
     "execution_count": 31,
     "metadata": {},
     "output_type": "execute_result"
    }
   ],
   "source": [
    "u.T*v"
   ]
  },
  {
   "cell_type": "markdown",
   "id": "1e98ded9-e3e0-44e6-b737-59fa61861aa2",
   "metadata": {},
   "source": [
    "The dot product also gives information about the angle between two vectors."
   ]
  },
  {
   "cell_type": "code",
   "execution_count": 60,
   "id": "71d836f3-89c9-4d29-a679-b79edd9254c3",
   "metadata": {},
   "outputs": [
    {
     "data": {
      "image/png": "[encoded data removed]",
      "text/plain": [
       "<Figure size 432x288 with 1 Axes>"
      ]
     },
     "metadata": {
      "needs_background": "light"
     },
     "output_type": "display_data"
    }
   ],
   "source": [
    "import matplotlib.pyplot as plt\n",
    "import numpy as np\n",
    "import math\n",
    "\n",
    "ax = plt.axes()\n",
    "\n",
    "ax.annotate('u = (2,5)', (2.5, 5), fontsize=12)\n",
    "ax.annotate('v = (5,-2)', (4, -4),fontsize=12)\n",
    "ax.annotate('90 deg', (1, 0),fontsize=12)\n",
    "\n",
    "plt.quiver([0, 0], [0, 0], [2, 5], [5, -2], angles='xy', scale_units='xy', scale=0.5)\n",
    "\n",
    "plt.xlim(-10, 10)\n",
    "plt.ylim(-10, 10)\n",
    "plt.show()"
   ]
  },
  {
   "cell_type": "code",
   "execution_count": 61,
   "id": "2e5b5f66-5a1a-4a2c-8bf1-cf7c2d1dbcb1",
   "metadata": {},
   "outputs": [
    {
     "data": {
      "text/latex": [
       "$\\displaystyle \\left[\\begin{matrix}0\\end{matrix}\\right]$"
      ],
      "text/plain": [
       "Matrix([[0]])"
      ]
     },
     "execution_count": 61,
     "metadata": {},
     "output_type": "execute_result"
    }
   ],
   "source": [
    "u = Matrix([[2, 5]]).T\n",
    "v = Matrix([[5,-2]]).T\n",
    "u.T*v"
   ]
  },
  {
   "cell_type": "markdown",
   "id": "1a239147-32c1-4c70-8900-30227f871987",
   "metadata": {},
   "source": [
    "Vectors $\\bf{u}$ and $\\bf{v}$ are perpendicular or orthogonal if and only if their dot product is zero.\n",
    "Two vectors $\\bf{u}$ and $\\bf{v}$ are said to be perpendicular or orthogonal $\\iff$ $\\bf{u.v}$ = 0."
   ]
  },
  {
   "cell_type": "markdown",
   "id": "fb3843b7-c3d4-43a5-98b5-c86e7ea8fcb0",
   "metadata": {},
   "source": [
    "### 2.1.3 Properties of dot (inner) product"
   ]
  },
  {
   "cell_type": "markdown",
   "id": "57a1816b-7342-40ac-b91a-a83b2fc1f2a9",
   "metadata": {},
   "source": [
    "##### Proposition (2.6) Let $\\bf{u}$, $\\bf{v}$ and $\\bf{w}$ be vectors in $\\mathbb{R}^{n}$ and $k$ be a real number. Therefore:"
   ]
  },
  {
   "cell_type": "markdown",
   "id": "b3f62fd6-3342-43fe-a2db-f3007764d43f",
   "metadata": {},
   "source": [
    "(i) $(\\bf{u+v}).\\bf{w}$ = $\\bf{u}.\\bf{w}+\\bf{v}.\\bf{w}$"
   ]
  },
  {
   "cell_type": "markdown",
   "id": "ac67d19f-493a-4b3b-9b5e-1fe82603065a",
   "metadata": {},
   "source": [
    "(ii) $\\bf{u}.\\bf{v}$ = $\\bf{v}.\\bf{u}$"
   ]
  },
  {
   "cell_type": "markdown",
   "id": "abf43170-1c7c-4089-bfe2-c2e68bd224e4",
   "metadata": {},
   "source": [
    "(iii) $(k\\bf{u}).\\bf{v}$ = $k(\\bf{u}.\\bf{v})$ = $(\\bf{u}.k\\bf{v})$"
   ]
  },
  {
   "cell_type": "markdown",
   "id": "2c2fcdbf-9609-4516-ab30-132b4d726400",
   "metadata": {},
   "source": [
    "(iv) $\\bf{u.u} \\ge 0$ and $\\bf{u.u}$ = 0 $\\iff \\bf{u}$ = $\\bf{O}$"
   ]
  }
 ],
 "metadata": {
  "kernelspec": {
   "display_name": "Python 3",
   "language": "python",
   "name": "python3"
  },
  "language_info": {
   "codemirror_mode": {
    "name": "ipython",
    "version": 3
   },
   "file_extension": ".py",
   "mimetype": "text/x-python",
   "name": "python",
   "nbconvert_exporter": "python",
   "pygments_lexer": "ipython3",
   "version": "3.9.4"
  }
 },
 "nbformat": 4,
 "nbformat_minor": 5
}
