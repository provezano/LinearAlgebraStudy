{
 "cells": [
  {
   "cell_type": "markdown",
   "id": "8dfdf23c-b914-4685-b221-06641258d7f1",
   "metadata": {},
   "source": [
    "# General Vector Spaces"
   ]
  },
  {
   "cell_type": "markdown",
   "id": "10dca6c2-7329-43c7-b4ac-a18bd1d1a520",
   "metadata": {},
   "source": [
    "## Section 3.1 Introduction to General Vector Spaces"
   ]
  },
  {
   "cell_type": "markdown",
   "id": "15a5f9ae-3995-45ee-9b40-1d80faa15cdb",
   "metadata": {},
   "source": [
    "### 3.1.1 Vector space"
   ]
  },
  {
   "cell_type": "markdown",
   "id": "4ddec57b-21e2-4cdc-a4c4-d9781ad027ad",
   "metadata": {},
   "source": [
    "Let $V$ be a non-empty set of elements called vectors $\\bf{u}$, $\\bf{v}$, and $\\bf{w}$. The set $V$ is called **vector space** if it satisfies the following 10 axioms."
   ]
  },
  {
   "cell_type": "markdown",
   "id": "0ab1c360-13a5-44cf-a093-8e56605b6354",
   "metadata": {},
   "source": [
    "1. The vector addition $\\bf{u}+\\bf{v}$ is also in the vector space $V$ (**Closure** under vector addition).\n",
    "2. Commutative law: $\\bf{u}+\\bf{v}$ = $\\bf{v}+\\bf{u}$.\n",
    "3. Associative law: $(\\bf{u}+\\bf{v})+\\bf{w}$ = $\\bf{u}+(\\bf{v}+\\bf{w})$.\n",
    "4. Neutral element (zero vector $\\bf{O}$).\n",
    "5. Additive inverse ($\\bf{u}+(-\\bf{u})$ = $\\bf{O}$.\n",
    "6. Let $k$ be a real scalar then $k\\bf{u}$ is also in $V$ (**Closure** under scalar multiplication).\n",
    "7. Associative law for scalar multiplication. Let $k$ and $c$ be a real scalars then  $k(c\\bf{u})$ = $(kc)\\bf{u}$.\n",
    "8. Distributive law for vectors. Let $k$ be a real scalar then $k(\\bf{u}+\\bf{v})$ = $k\\bf{u}$+$k\\bf{v}$.\n",
    "9. Distributive law for scalars. Let $k$ and $c$ be a real scalars then $(k+c)\\bf{u}$ = $k\\bf{u}$+$c\\bf{u}$.\n",
    "10. Identity element. For every vector $\\bf{u}$ in $V$ we have $1\\bf{u}$ = $\\bf{u}$."
   ]
  },
  {
   "cell_type": "markdown",
   "id": "bc8a0596-e919-41b7-90a1-9faeece0db6b",
   "metadata": {},
   "source": [
    "### 3.1.3 Basic properties of general vector spaces"
   ]
  },
  {
   "cell_type": "markdown",
   "id": "0643c650-c14d-4876-8360-8178028c823b",
   "metadata": {},
   "source": [
    "**Proposition (3.1)** Let $V$ be a vector space and $k$ be a real number. Then we have:"
   ]
  },
  {
   "cell_type": "markdown",
   "id": "4aa01e78-bd5b-4c06-9fef-1d75acc6a6c1",
   "metadata": {},
   "source": [
    "1. $k\\bf{O}$ = $\\bf{O}$ \n",
    "2. $0\\bf{u}$ = $\\bf{O}$\n",
    "3. $-1\\bf{u}$ = $-\\bf{u}$\n",
    "4. If $k\\bf{u}$ = $\\bf{O}$, then $k$ = $0$ or $\\bf{u}$ = $\\bf{O}$"
   ]
  },
  {
   "cell_type": "markdown",
   "id": "8a8ff828-8f71-45e0-9f1e-1b467f256b9c",
   "metadata": {},
   "source": [
    "## Section 3.2 Subspace of a Vector Space"
   ]
  },
  {
   "cell_type": "markdown",
   "id": "bc686e9c-0a42-430b-9349-e82a8db1c57a",
   "metadata": {},
   "source": [
    "### 3.2.1 Examples of vector subspaces"
   ]
  },
  {
   "cell_type": "markdown",
   "id": "d6073f82-1859-4b23-ad8c-02de0586ee66",
   "metadata": {},
   "source": [
    "**Definition (3.4)**. A non-empty subset S of a vector space $V$"
   ]
  },
  {
   "cell_type": "markdown",
   "id": "12d126c9-7b05-4980-9e2e-6d5b14d2e26c",
   "metadata": {},
   "source": [
    "### 3.2.2 Revision of linear combination"
   ]
  },
  {
   "cell_type": "markdown",
   "id": "f72e16fb-2762-4204-8eb5-2e5bf77ac24a",
   "metadata": {},
   "source": [
    "### 3.2.3 Revision of spanning sets"
   ]
  },
  {
   "cell_type": "code",
   "execution_count": null,
   "id": "674a7acc-5cd1-471f-ad42-994b8c79331c",
   "metadata": {},
   "outputs": [],
   "source": [
    "## Section 3.3 Linear Indepencence and Basis"
   ]
  },
  {
   "cell_type": "code",
   "execution_count": null,
   "id": "792a8015-c55a-4f80-9e29-a8afe9f9b3a6",
   "metadata": {},
   "outputs": [],
   "source": [
    "### 3.3.1 "
   ]
  },
  {
   "cell_type": "code",
   "execution_count": null,
   "id": "d4987022-eed6-455b-a78d-03d15de8fb93",
   "metadata": {},
   "outputs": [],
   "source": [
    "### 3.3.2 "
   ]
  },
  {
   "cell_type": "code",
   "execution_count": null,
   "id": "ae8b334b-d9e7-4172-95ea-b4a53020f110",
   "metadata": {},
   "outputs": [],
   "source": [
    "### 3.3.3 "
   ]
  },
  {
   "cell_type": "code",
   "execution_count": null,
   "id": "95966a71-0a05-4256-9b1a-09255d43d8c3",
   "metadata": {},
   "outputs": [],
   "source": [
    "### 3.3.4 "
   ]
  },
  {
   "cell_type": "code",
   "execution_count": null,
   "id": "2a6bd969-c690-4c8f-88f7-abb561fbab12",
   "metadata": {},
   "outputs": [],
   "source": [
    "### 3.3.5 "
   ]
  },
  {
   "cell_type": "code",
   "execution_count": null,
   "id": "df947b09-b9cd-41ef-aa72-a45cae308d16",
   "metadata": {},
   "outputs": [],
   "source": [
    "## Section 3.4 Dimension"
   ]
  },
  {
   "cell_type": "code",
   "execution_count": null,
   "id": "4f93440a-28b3-4aba-880f-24ce772c54a9",
   "metadata": {},
   "outputs": [],
   "source": [
    "### 3.4.1 "
   ]
  },
  {
   "cell_type": "code",
   "execution_count": null,
   "id": "1dbde24a-f356-4de5-aa6a-38d92f6130f5",
   "metadata": {},
   "outputs": [],
   "source": [
    "### 3.4.2 "
   ]
  },
  {
   "cell_type": "code",
   "execution_count": null,
   "id": "085676e9-fa96-4e36-a350-c64c3f27b8b8",
   "metadata": {},
   "outputs": [],
   "source": [
    "### 3.4.3 "
   ]
  },
  {
   "cell_type": "code",
   "execution_count": null,
   "id": "bd042fc4-c27d-43c9-9c9a-bc44c86b3b76",
   "metadata": {},
   "outputs": [],
   "source": [
    "### 3.4.4 "
   ]
  },
  {
   "cell_type": "code",
   "execution_count": null,
   "id": "a18c4678-2b81-4280-bf06-a2f28abe6065",
   "metadata": {},
   "outputs": [],
   "source": [
    "## Section 3.5 Properties of a Matrix"
   ]
  },
  {
   "cell_type": "code",
   "execution_count": null,
   "id": "88c9c44b-eff5-46af-a410-ce28bbe6702d",
   "metadata": {},
   "outputs": [],
   "source": [
    "### 3.5.1 "
   ]
  },
  {
   "cell_type": "code",
   "execution_count": null,
   "id": "6e290995-20e5-4eec-a890-121c59a97998",
   "metadata": {},
   "outputs": [],
   "source": [
    "### 3.5.2 "
   ]
  },
  {
   "cell_type": "code",
   "execution_count": null,
   "id": "9c1df2a7-5a89-422b-a256-aeef9fbb7e0b",
   "metadata": {},
   "outputs": [],
   "source": [
    "### 3.5.3 "
   ]
  },
  {
   "cell_type": "code",
   "execution_count": null,
   "id": "f206fed0-0448-4f7a-83d1-219add4f6ea5",
   "metadata": {},
   "outputs": [],
   "source": [
    "### 3.5.4 "
   ]
  },
  {
   "cell_type": "code",
   "execution_count": null,
   "id": "40bcf8a8-1136-4e0e-a209-444f34354b7f",
   "metadata": {},
   "outputs": [],
   "source": [
    "### 3.5.5 "
   ]
  },
  {
   "cell_type": "code",
   "execution_count": null,
   "id": "8ef4ffb3-fb3a-4c2f-bbe6-fb096b02a5be",
   "metadata": {},
   "outputs": [],
   "source": [
    "### 3.5.6 "
   ]
  },
  {
   "cell_type": "code",
   "execution_count": null,
   "id": "43b9b6ef-4899-4da0-b662-a2630fb2b5ce",
   "metadata": {},
   "outputs": [],
   "source": [
    "## Section 3.6 Linear Systems Revisited"
   ]
  },
  {
   "cell_type": "code",
   "execution_count": null,
   "id": "85a27c2f-0e9f-420f-a315-de2d523b7847",
   "metadata": {},
   "outputs": [],
   "source": [
    "### 3.6.1 "
   ]
  },
  {
   "cell_type": "code",
   "execution_count": null,
   "id": "bc5b1deb-634b-4d2b-a8d3-b28a326548e6",
   "metadata": {},
   "outputs": [],
   "source": [
    "### 3.6.2 "
   ]
  },
  {
   "cell_type": "code",
   "execution_count": null,
   "id": "82ef0633-d25b-461b-a29e-39b978d0f55d",
   "metadata": {},
   "outputs": [],
   "source": [
    "### 3.6.3 "
   ]
  },
  {
   "cell_type": "code",
   "execution_count": null,
   "id": "ac9d0436-0726-48c8-b8d0-af71c6ed2d23",
   "metadata": {},
   "outputs": [],
   "source": [
    "### 3.6.4 Properties of non-homogeneous linear systems"
   ]
  }
 ],
 "metadata": {
  "kernelspec": {
   "display_name": "Python 3",
   "language": "python",
   "name": "python3"
  },
  "language_info": {
   "codemirror_mode": {
    "name": "ipython",
    "version": 3
   },
   "file_extension": ".py",
   "mimetype": "text/x-python",
   "name": "python",
   "nbconvert_exporter": "python",
   "pygments_lexer": "ipython3",
   "version": "3.9.4"
  }
 },
 "nbformat": 4,
 "nbformat_minor": 5
}
